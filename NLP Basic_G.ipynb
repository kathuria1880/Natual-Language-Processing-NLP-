{
 "cells": [
  {
   "cell_type": "markdown",
   "metadata": {},
   "source": [
    "# Tokenizer"
   ]
  },
  {
   "cell_type": "markdown",
   "metadata": {},
   "source": [
    "#### Tokenization is essentially splitting a phrase, sentence, paragraph, or an entire text document into smaller units, such as individual words or terms. "
   ]
  },
  {
   "cell_type": "code",
   "execution_count": 4,
   "metadata": {},
   "outputs": [],
   "source": [
    "import nltk\n",
    "paragraph=\"\"\"Virat Kohli is an Indian cricketer and the current captain of the India national team. A right-handed top-order batsman, Kohli is regarded as one of the best contemporary batsmen in the world.He plays for Royal Challengers Bangalore in the Indian Premier League (IPL), and has been the team's captain since 2013. Kohli is consistently rated as one of the top-ranked batsmen in the world, according to the ICC Player Rankings. Among Indian batsmen, Kohli has his best ever Test rating (937 points), ODI rating (911 points) and T20I rating (897 points).\n",
    "Kohli captained India Under-19s to victory at the 2008 Under-19 World Cup in Malaysia. After a few months later, he made his ODI debut for India against Sri Lanka at the age of 19. Initially having played as a reserve batsman in the Indian team, he soon established himself as a regular in the ODI middle-order and was part of the squad that won the 2011 World Cup. He made his Test debut in 2011 and shrugged off the tag of \"ODI specialist\" by 2013 with Test hundreds in Australia and South Africa.\n",
    "Kohli was appointed the vice-captain of the ODI team in 2012 and handed over the Test captaincy following Mahendra Singh Dhoni's Test retirement in 2014. In early 2017, he became the limited-overs captain as well after Dhoni stepped down from the position. In ODIs, Kohli has the second highest number of centuries and the highest number of centuries in run-chases in the world.\"\"\"\n",
    "sentences=nltk.sent_tokenize(paragraph)\n",
    "words=nltk.word_tokenize(paragraph)"
   ]
  },
  {
   "cell_type": "code",
   "execution_count": 5,
   "metadata": {},
   "outputs": [
    {
     "data": {
      "text/plain": [
       "['Virat Kohli is an Indian cricketer and the current captain of the India national team.',\n",
       " \"A right-handed top-order batsman, Kohli is regarded as one of the best contemporary batsmen in the world.He plays for Royal Challengers Bangalore in the Indian Premier League (IPL), and has been the team's captain since 2013.\",\n",
       " 'Kohli is consistently rated as one of the top-ranked batsmen in the world, according to the ICC Player Rankings.',\n",
       " 'Among Indian batsmen, Kohli has his best ever Test rating (937 points), ODI rating (911 points) and T20I rating (897 points).',\n",
       " 'Kohli captained India Under-19s to victory at the 2008 Under-19 World Cup in Malaysia.',\n",
       " 'After a few months later, he made his ODI debut for India against Sri Lanka at the age of 19.',\n",
       " 'Initially having played as a reserve batsman in the Indian team, he soon established himself as a regular in the ODI middle-order and was part of the squad that won the 2011 World Cup.',\n",
       " 'He made his Test debut in 2011 and shrugged off the tag of \"ODI specialist\" by 2013 with Test hundreds in Australia and South Africa.',\n",
       " \"Kohli was appointed the vice-captain of the ODI team in 2012 and handed over the Test captaincy following Mahendra Singh Dhoni's Test retirement in 2014.\",\n",
       " 'In early 2017, he became the limited-overs captain as well after Dhoni stepped down from the position.',\n",
       " 'In ODIs, Kohli has the second highest number of centuries and the highest number of centuries in run-chases in the world.']"
      ]
     },
     "execution_count": 5,
     "metadata": {},
     "output_type": "execute_result"
    }
   ],
   "source": [
    "sentences"
   ]
  },
  {
   "cell_type": "code",
   "execution_count": 6,
   "metadata": {},
   "outputs": [
    {
     "data": {
      "text/plain": [
       "['Virat',\n",
       " 'Kohli',\n",
       " 'is',\n",
       " 'an',\n",
       " 'Indian',\n",
       " 'cricketer',\n",
       " 'and',\n",
       " 'the',\n",
       " 'current',\n",
       " 'captain',\n",
       " 'of',\n",
       " 'the',\n",
       " 'India',\n",
       " 'national',\n",
       " 'team',\n",
       " '.',\n",
       " 'A',\n",
       " 'right-handed',\n",
       " 'top-order',\n",
       " 'batsman',\n",
       " ',',\n",
       " 'Kohli',\n",
       " 'is',\n",
       " 'regarded',\n",
       " 'as',\n",
       " 'one',\n",
       " 'of',\n",
       " 'the',\n",
       " 'best',\n",
       " 'contemporary',\n",
       " 'batsmen',\n",
       " 'in',\n",
       " 'the',\n",
       " 'world.He',\n",
       " 'plays',\n",
       " 'for',\n",
       " 'Royal',\n",
       " 'Challengers',\n",
       " 'Bangalore',\n",
       " 'in',\n",
       " 'the',\n",
       " 'Indian',\n",
       " 'Premier',\n",
       " 'League',\n",
       " '(',\n",
       " 'IPL',\n",
       " ')',\n",
       " ',',\n",
       " 'and',\n",
       " 'has',\n",
       " 'been',\n",
       " 'the',\n",
       " 'team',\n",
       " \"'s\",\n",
       " 'captain',\n",
       " 'since',\n",
       " '2013',\n",
       " '.',\n",
       " 'Kohli',\n",
       " 'is',\n",
       " 'consistently',\n",
       " 'rated',\n",
       " 'as',\n",
       " 'one',\n",
       " 'of',\n",
       " 'the',\n",
       " 'top-ranked',\n",
       " 'batsmen',\n",
       " 'in',\n",
       " 'the',\n",
       " 'world',\n",
       " ',',\n",
       " 'according',\n",
       " 'to',\n",
       " 'the',\n",
       " 'ICC',\n",
       " 'Player',\n",
       " 'Rankings',\n",
       " '.',\n",
       " 'Among',\n",
       " 'Indian',\n",
       " 'batsmen',\n",
       " ',',\n",
       " 'Kohli',\n",
       " 'has',\n",
       " 'his',\n",
       " 'best',\n",
       " 'ever',\n",
       " 'Test',\n",
       " 'rating',\n",
       " '(',\n",
       " '937',\n",
       " 'points',\n",
       " ')',\n",
       " ',',\n",
       " 'ODI',\n",
       " 'rating',\n",
       " '(',\n",
       " '911',\n",
       " 'points',\n",
       " ')',\n",
       " 'and',\n",
       " 'T20I',\n",
       " 'rating',\n",
       " '(',\n",
       " '897',\n",
       " 'points',\n",
       " ')',\n",
       " '.',\n",
       " 'Kohli',\n",
       " 'captained',\n",
       " 'India',\n",
       " 'Under-19s',\n",
       " 'to',\n",
       " 'victory',\n",
       " 'at',\n",
       " 'the',\n",
       " '2008',\n",
       " 'Under-19',\n",
       " 'World',\n",
       " 'Cup',\n",
       " 'in',\n",
       " 'Malaysia',\n",
       " '.',\n",
       " 'After',\n",
       " 'a',\n",
       " 'few',\n",
       " 'months',\n",
       " 'later',\n",
       " ',',\n",
       " 'he',\n",
       " 'made',\n",
       " 'his',\n",
       " 'ODI',\n",
       " 'debut',\n",
       " 'for',\n",
       " 'India',\n",
       " 'against',\n",
       " 'Sri',\n",
       " 'Lanka',\n",
       " 'at',\n",
       " 'the',\n",
       " 'age',\n",
       " 'of',\n",
       " '19',\n",
       " '.',\n",
       " 'Initially',\n",
       " 'having',\n",
       " 'played',\n",
       " 'as',\n",
       " 'a',\n",
       " 'reserve',\n",
       " 'batsman',\n",
       " 'in',\n",
       " 'the',\n",
       " 'Indian',\n",
       " 'team',\n",
       " ',',\n",
       " 'he',\n",
       " 'soon',\n",
       " 'established',\n",
       " 'himself',\n",
       " 'as',\n",
       " 'a',\n",
       " 'regular',\n",
       " 'in',\n",
       " 'the',\n",
       " 'ODI',\n",
       " 'middle-order',\n",
       " 'and',\n",
       " 'was',\n",
       " 'part',\n",
       " 'of',\n",
       " 'the',\n",
       " 'squad',\n",
       " 'that',\n",
       " 'won',\n",
       " 'the',\n",
       " '2011',\n",
       " 'World',\n",
       " 'Cup',\n",
       " '.',\n",
       " 'He',\n",
       " 'made',\n",
       " 'his',\n",
       " 'Test',\n",
       " 'debut',\n",
       " 'in',\n",
       " '2011',\n",
       " 'and',\n",
       " 'shrugged',\n",
       " 'off',\n",
       " 'the',\n",
       " 'tag',\n",
       " 'of',\n",
       " '``',\n",
       " 'ODI',\n",
       " 'specialist',\n",
       " \"''\",\n",
       " 'by',\n",
       " '2013',\n",
       " 'with',\n",
       " 'Test',\n",
       " 'hundreds',\n",
       " 'in',\n",
       " 'Australia',\n",
       " 'and',\n",
       " 'South',\n",
       " 'Africa',\n",
       " '.',\n",
       " 'Kohli',\n",
       " 'was',\n",
       " 'appointed',\n",
       " 'the',\n",
       " 'vice-captain',\n",
       " 'of',\n",
       " 'the',\n",
       " 'ODI',\n",
       " 'team',\n",
       " 'in',\n",
       " '2012',\n",
       " 'and',\n",
       " 'handed',\n",
       " 'over',\n",
       " 'the',\n",
       " 'Test',\n",
       " 'captaincy',\n",
       " 'following',\n",
       " 'Mahendra',\n",
       " 'Singh',\n",
       " 'Dhoni',\n",
       " \"'s\",\n",
       " 'Test',\n",
       " 'retirement',\n",
       " 'in',\n",
       " '2014',\n",
       " '.',\n",
       " 'In',\n",
       " 'early',\n",
       " '2017',\n",
       " ',',\n",
       " 'he',\n",
       " 'became',\n",
       " 'the',\n",
       " 'limited-overs',\n",
       " 'captain',\n",
       " 'as',\n",
       " 'well',\n",
       " 'after',\n",
       " 'Dhoni',\n",
       " 'stepped',\n",
       " 'down',\n",
       " 'from',\n",
       " 'the',\n",
       " 'position',\n",
       " '.',\n",
       " 'In',\n",
       " 'ODIs',\n",
       " ',',\n",
       " 'Kohli',\n",
       " 'has',\n",
       " 'the',\n",
       " 'second',\n",
       " 'highest',\n",
       " 'number',\n",
       " 'of',\n",
       " 'centuries',\n",
       " 'and',\n",
       " 'the',\n",
       " 'highest',\n",
       " 'number',\n",
       " 'of',\n",
       " 'centuries',\n",
       " 'in',\n",
       " 'run-chases',\n",
       " 'in',\n",
       " 'the',\n",
       " 'world',\n",
       " '.']"
      ]
     },
     "execution_count": 6,
     "metadata": {},
     "output_type": "execute_result"
    }
   ],
   "source": [
    "words"
   ]
  },
  {
   "cell_type": "markdown",
   "metadata": {},
   "source": [
    "# Stemming"
   ]
  },
  {
   "cell_type": "markdown",
   "metadata": {},
   "source": [
    "#### Stemming is the Process of reducing a word to its word stem. Stemming does not form a meaningful word."
   ]
  },
  {
   "cell_type": "code",
   "execution_count": 8,
   "metadata": {},
   "outputs": [],
   "source": [
    "import nltk\n",
    "from nltk.stem import PorterStemmer\n",
    "from nltk.corpus import stopwords\n",
    "paragraph=\"\"\"Virat Kohli is an Indian cricketer and the current captain of the India national team. A right-handed top-order batsman, Kohli is regarded as one of the best contemporary batsmen in the world.He plays for Royal Challengers Bangalore in the Indian Premier League (IPL), and has been the team's captain since 2013. Kohli is consistently rated as one of the top-ranked batsmen in the world, according to the ICC Player Rankings. Among Indian batsmen, Kohli has his best ever Test rating (937 points), ODI rating (911 points) and T20I rating (897 points).\n",
    "Kohli captained India Under-19s to victory at the 2008 Under-19 World Cup in Malaysia. After a few months later, he made his ODI debut for India against Sri Lanka at the age of 19. Initially having played as a reserve batsman in the Indian team, he soon established himself as a regular in the ODI middle-order and was part of the squad that won the 2011 World Cup. He made his Test debut in 2011 and shrugged off the tag of \"ODI specialist\" by 2013 with Test hundreds in Australia and South Africa.\n",
    "Kohli was appointed the vice-captain of the ODI team in 2012 and handed over the Test captaincy following Mahendra Singh Dhoni's Test retirement in 2014. In early 2017, he became the limited-overs captain as well after Dhoni stepped down from the position. In ODIs, Kohli has the second highest number of centuries and the highest number of centuries in run-chases in the world.\"\"\"\n",
    "sentences=nltk.sent_tokenize(paragraph)\n",
    "stemmer=PorterStemmer()\n",
    "\n",
    "#stemming\n",
    "for i in range(len(sentences)):\n",
    "    words=nltk.word_tokenize(sentences[i])\n",
    "    words=[stemmer.stem(word) for word in words if word not in set(stopwords.words('English'))]\n",
    "    sentences[i]=' '.join(words)"
   ]
  },
  {
   "cell_type": "code",
   "execution_count": 9,
   "metadata": {},
   "outputs": [
    {
     "data": {
      "text/plain": [
       "['In',\n",
       " 'odi',\n",
       " ',',\n",
       " 'kohli',\n",
       " 'second',\n",
       " 'highest',\n",
       " 'number',\n",
       " 'centuri',\n",
       " 'highest',\n",
       " 'number',\n",
       " 'centuri',\n",
       " 'run-chas',\n",
       " 'world',\n",
       " '.']"
      ]
     },
     "execution_count": 9,
     "metadata": {},
     "output_type": "execute_result"
    }
   ],
   "source": [
    "words"
   ]
  },
  {
   "cell_type": "code",
   "execution_count": 10,
   "metadata": {},
   "outputs": [
    {
     "data": {
      "text/plain": [
       "['virat kohli indian cricket current captain india nation team .',\n",
       " \"A right-hand top-ord batsman , kohli regard one best contemporari batsmen world.h play royal challeng bangalor indian premier leagu ( ipl ) , team 's captain sinc 2013 .\",\n",
       " 'kohli consist rate one top-rank batsmen world , accord icc player rank .',\n",
       " 'among indian batsmen , kohli best ever test rate ( 937 point ) , odi rate ( 911 point ) t20i rate ( 897 point ) .',\n",
       " 'kohli captain india under-19 victori 2008 under-19 world cup malaysia .',\n",
       " 'after month later , made odi debut india sri lanka age 19 .',\n",
       " 'initi play reserv batsman indian team , soon establish regular odi middle-ord part squad 2011 world cup .',\n",
       " \"He made test debut 2011 shrug tag `` odi specialist '' 2013 test hundr australia south africa .\",\n",
       " \"kohli appoint vice-captain odi team 2012 hand test captainci follow mahendra singh dhoni 's test retir 2014 .\",\n",
       " 'In earli 2017 , becam limited-ov captain well dhoni step posit .',\n",
       " 'In odi , kohli second highest number centuri highest number centuri run-chas world .']"
      ]
     },
     "execution_count": 10,
     "metadata": {},
     "output_type": "execute_result"
    }
   ],
   "source": [
    "sentences"
   ]
  },
  {
   "cell_type": "markdown",
   "metadata": {},
   "source": [
    "# Lemmatization"
   ]
  },
  {
   "cell_type": "markdown",
   "metadata": {},
   "source": [
    "#### Lemmatization is the process of reducing a word to a meaningful form."
   ]
  },
  {
   "cell_type": "code",
   "execution_count": 12,
   "metadata": {},
   "outputs": [],
   "source": [
    "import nltk\n",
    "from nltk.stem import WordNetLemmatizer\n",
    "from nltk.corpus import stopwords\n",
    "paragraph=\"\"\"Virat Kohli is an Indian cricketer and the current captain of the India national team. A right-handed top-order batsman, Kohli is regarded as one of the best contemporary batsmen in the world.He plays for Royal Challengers Bangalore in the Indian Premier League (IPL), and has been the team's captain since 2013. Kohli is consistently rated as one of the top-ranked batsmen in the world, according to the ICC Player Rankings. Among Indian batsmen, Kohli has his best ever Test rating (937 points), ODI rating (911 points) and T20I rating (897 points).\n",
    "Kohli captained India Under-19s to victory at the 2008 Under-19 World Cup in Malaysia. After a few months later, he made his ODI debut for India against Sri Lanka at the age of 19. Initially having played as a reserve batsman in the Indian team, he soon established himself as a regular in the ODI middle-order and was part of the squad that won the 2011 World Cup. He made his Test debut in 2011 and shrugged off the tag of \"ODI specialist\" by 2013 with Test hundreds in Australia and South Africa.\n",
    "Kohli was appointed the vice-captain of the ODI team in 2012 and handed over the Test captaincy following Mahendra Singh Dhoni's Test retirement in 2014. In early 2017, he became the limited-overs captain as well after Dhoni stepped down from the position. In ODIs, Kohli has the second highest number of centuries and the highest number of centuries in run-chases in the world.\"\"\"\n",
    "sentences=nltk.sent_tokenize(paragraph)\n",
    "lemmatizer=WordNetLemmatizer()\n",
    "\n",
    "#Lemmatization\n",
    "for i in range(len(sentences)):\n",
    "    words=nltk.word_tokenize(sentences[i])\n",
    "    words=[lemmatizer.lemmatize(word) for word in words if word not in set(stopwords.words('English'))]\n",
    "    sentences[i]==' '.join(words)"
   ]
  },
  {
   "cell_type": "code",
   "execution_count": 13,
   "metadata": {},
   "outputs": [
    {
     "data": {
      "text/plain": [
       "['Virat Kohli is an Indian cricketer and the current captain of the India national team.',\n",
       " \"A right-handed top-order batsman, Kohli is regarded as one of the best contemporary batsmen in the world.He plays for Royal Challengers Bangalore in the Indian Premier League (IPL), and has been the team's captain since 2013.\",\n",
       " 'Kohli is consistently rated as one of the top-ranked batsmen in the world, according to the ICC Player Rankings.',\n",
       " 'Among Indian batsmen, Kohli has his best ever Test rating (937 points), ODI rating (911 points) and T20I rating (897 points).',\n",
       " 'Kohli captained India Under-19s to victory at the 2008 Under-19 World Cup in Malaysia.',\n",
       " 'After a few months later, he made his ODI debut for India against Sri Lanka at the age of 19.',\n",
       " 'Initially having played as a reserve batsman in the Indian team, he soon established himself as a regular in the ODI middle-order and was part of the squad that won the 2011 World Cup.',\n",
       " 'He made his Test debut in 2011 and shrugged off the tag of \"ODI specialist\" by 2013 with Test hundreds in Australia and South Africa.',\n",
       " \"Kohli was appointed the vice-captain of the ODI team in 2012 and handed over the Test captaincy following Mahendra Singh Dhoni's Test retirement in 2014.\",\n",
       " 'In early 2017, he became the limited-overs captain as well after Dhoni stepped down from the position.',\n",
       " 'In ODIs, Kohli has the second highest number of centuries and the highest number of centuries in run-chases in the world.']"
      ]
     },
     "execution_count": 13,
     "metadata": {},
     "output_type": "execute_result"
    }
   ],
   "source": [
    "sentences"
   ]
  },
  {
   "cell_type": "code",
   "execution_count": 14,
   "metadata": {},
   "outputs": [
    {
     "data": {
      "text/plain": [
       "['In',\n",
       " 'ODIs',\n",
       " ',',\n",
       " 'Kohli',\n",
       " 'second',\n",
       " 'highest',\n",
       " 'number',\n",
       " 'century',\n",
       " 'highest',\n",
       " 'number',\n",
       " 'century',\n",
       " 'run-chases',\n",
       " 'world',\n",
       " '.']"
      ]
     },
     "execution_count": 14,
     "metadata": {},
     "output_type": "execute_result"
    }
   ],
   "source": [
    "words"
   ]
  },
  {
   "cell_type": "markdown",
   "metadata": {},
   "source": [
    "# Bag of Words"
   ]
  },
  {
   "cell_type": "code",
   "execution_count": 15,
   "metadata": {},
   "outputs": [],
   "source": [
    "#Corpus refers to the collection of texts"
   ]
  },
  {
   "cell_type": "code",
   "execution_count": 19,
   "metadata": {},
   "outputs": [],
   "source": [
    "import nltk\n",
    "paragraph=\"\"\"Virat Kohli is an Indian cricketer and the current captain of the India national team. A right-handed top-order batsman, Kohli is regarded as one of the best contemporary batsmen in the world.He plays for Royal Challengers Bangalore in the Indian Premier League (IPL), and has been the team's captain since 2013. Kohli is consistently rated as one of the top-ranked batsmen in the world, according to the ICC Player Rankings. Among Indian batsmen, Kohli has his best ever Test rating (937 points), ODI rating (911 points) and T20I rating (897 points).\n",
    "Kohli captained India Under-19s to victory at the 2008 Under-19 World Cup in Malaysia. After a few months later, he made his ODI debut for India against Sri Lanka at the age of 19. Initially having played as a reserve batsman in the Indian team, he soon established himself as a regular in the ODI middle-order and was part of the squad that won the 2011 World Cup. He made his Test debut in 2011 and shrugged off the tag of \"ODI specialist\" by 2013 with Test hundreds in Australia and South Africa.\n",
    "Kohli was appointed the vice-captain of the ODI team in 2012 and handed over the Test captaincy following Mahendra Singh Dhoni's Test retirement in 2014. In early 2017, he became the limited-overs captain as well after Dhoni stepped down from the position. In ODIs, Kohli has the second highest number of centuries and the highest number of centuries in run-chases in the world.\"\"\"\n",
    "#Cleaning the texts\n",
    "import re\n",
    "from nltk.corpus import stopwords\n",
    "from nltk.stem import WordNetLemmatizer\n",
    "from nltk.stem.porter import PorterStemmer\n",
    "ps=PorterStemmer()\n",
    "wordnet=WordNetLemmatizer()\n",
    "sentences=nltk.sent_tokenize(paragraph)\n",
    "corpus=[]\n",
    "for i in range(len(sentences)):\n",
    "    review=re.sub('[^a-zA-Z]',' ',sentences[i])\n",
    "    review=review.lower()\n",
    "    review=review.split()\n",
    "    review=[ps.stem(word) for word in review if not word in set(stopwords.words('English'))]\n",
    "    review=' '.join(review)\n",
    "    corpus.append(review)\n",
    "from sklearn.feature_extraction.text import CountVectorizer\n",
    "cv=CountVectorizer(max_features=1500)\n",
    "X=cv.fit_transform(corpus).toarray()"
   ]
  },
  {
   "cell_type": "code",
   "execution_count": 20,
   "metadata": {},
   "outputs": [
    {
     "data": {
      "text/plain": [
       "array([[0, 0, 0, 0, 0, 0, 0, 0, 0, 0, 0, 1, 0, 0, 0, 0, 0, 0, 1, 0, 1, 0,\n",
       "        0, 0, 0, 0, 0, 0, 0, 0, 0, 1, 1, 0, 0, 1, 0, 0, 0, 0, 0, 0, 0, 0,\n",
       "        0, 1, 0, 0, 0, 0, 0, 0, 0, 0, 0, 0, 0, 0, 0, 0, 0, 0, 0, 0, 0, 0,\n",
       "        0, 0, 0, 0, 0, 0, 0, 0, 0, 0, 0, 1, 0, 0, 0, 0, 1, 0, 0],\n",
       "       [0, 0, 0, 0, 0, 0, 1, 1, 1, 0, 1, 1, 0, 0, 1, 0, 0, 1, 0, 0, 0, 0,\n",
       "        0, 0, 0, 0, 0, 1, 0, 0, 0, 0, 1, 0, 1, 1, 0, 0, 1, 0, 0, 0, 0, 0,\n",
       "        0, 0, 0, 0, 1, 1, 0, 0, 1, 0, 0, 0, 1, 0, 0, 1, 0, 0, 0, 1, 1, 0,\n",
       "        0, 0, 1, 0, 0, 0, 0, 0, 0, 0, 0, 1, 0, 1, 0, 0, 0, 0, 1],\n",
       "       [1, 0, 0, 0, 0, 0, 0, 0, 1, 0, 0, 0, 0, 0, 0, 0, 1, 0, 0, 0, 0, 0,\n",
       "        0, 0, 0, 0, 0, 0, 0, 0, 1, 0, 0, 0, 0, 1, 0, 0, 0, 0, 0, 0, 0, 0,\n",
       "        0, 0, 0, 0, 1, 0, 0, 0, 0, 1, 0, 0, 0, 2, 1, 0, 0, 0, 0, 0, 0, 0,\n",
       "        0, 0, 0, 0, 0, 0, 0, 0, 0, 0, 0, 0, 0, 1, 0, 0, 0, 0, 1],\n",
       "       [0, 0, 0, 1, 0, 0, 0, 0, 1, 0, 1, 0, 0, 0, 0, 0, 0, 0, 0, 0, 0, 0,\n",
       "        0, 0, 0, 1, 0, 0, 0, 0, 0, 0, 1, 0, 0, 1, 0, 0, 0, 0, 0, 0, 0, 0,\n",
       "        0, 0, 0, 1, 0, 0, 0, 0, 0, 0, 3, 0, 0, 0, 3, 0, 0, 0, 0, 0, 0, 0,\n",
       "        0, 0, 0, 0, 0, 0, 0, 0, 0, 0, 0, 0, 1, 0, 0, 0, 0, 0, 0],\n",
       "       [0, 0, 0, 0, 0, 0, 0, 0, 0, 0, 0, 1, 0, 0, 0, 0, 0, 0, 0, 1, 0, 0,\n",
       "        0, 0, 0, 0, 0, 0, 0, 0, 0, 1, 0, 0, 0, 1, 0, 0, 0, 0, 0, 0, 1, 0,\n",
       "        0, 0, 0, 0, 0, 0, 0, 0, 0, 0, 0, 0, 0, 0, 0, 0, 0, 0, 0, 0, 0, 0,\n",
       "        0, 0, 0, 0, 0, 0, 0, 0, 0, 0, 0, 0, 0, 0, 0, 1, 0, 0, 1],\n",
       "       [0, 0, 1, 0, 0, 0, 0, 0, 0, 0, 0, 0, 0, 0, 0, 0, 0, 0, 0, 0, 0, 1,\n",
       "        0, 0, 0, 0, 0, 0, 0, 0, 0, 1, 0, 0, 0, 0, 1, 1, 0, 0, 1, 0, 0, 0,\n",
       "        1, 0, 0, 1, 0, 0, 0, 0, 0, 0, 0, 0, 0, 0, 0, 0, 0, 0, 0, 0, 0, 0,\n",
       "        0, 0, 0, 0, 0, 0, 0, 0, 1, 0, 0, 0, 0, 0, 0, 0, 0, 0, 0],\n",
       "       [0, 0, 0, 0, 0, 0, 0, 1, 0, 0, 0, 0, 0, 0, 0, 0, 0, 0, 0, 1, 0, 0,\n",
       "        0, 0, 1, 0, 0, 0, 0, 0, 0, 0, 1, 1, 0, 0, 0, 0, 0, 0, 0, 0, 0, 1,\n",
       "        0, 0, 0, 1, 0, 1, 0, 1, 1, 0, 0, 0, 0, 0, 0, 0, 1, 1, 0, 0, 0, 0,\n",
       "        0, 0, 0, 0, 1, 0, 0, 1, 0, 0, 0, 1, 0, 0, 0, 0, 0, 0, 1],\n",
       "       [0, 1, 0, 0, 0, 1, 0, 0, 0, 0, 0, 0, 0, 0, 0, 0, 0, 0, 0, 0, 0, 1,\n",
       "        0, 0, 0, 0, 0, 0, 0, 1, 0, 0, 0, 0, 0, 0, 0, 0, 0, 0, 1, 0, 0, 0,\n",
       "        0, 0, 0, 1, 0, 0, 0, 0, 0, 0, 0, 0, 0, 0, 0, 0, 0, 0, 0, 0, 0, 0,\n",
       "        0, 1, 0, 0, 0, 1, 1, 0, 0, 0, 1, 0, 2, 0, 0, 0, 0, 0, 0],\n",
       "       [0, 0, 0, 0, 1, 0, 0, 0, 0, 0, 0, 1, 1, 0, 0, 0, 0, 0, 0, 0, 0, 0,\n",
       "        1, 0, 0, 0, 1, 1, 0, 0, 0, 0, 0, 0, 0, 1, 0, 0, 0, 0, 0, 1, 0, 0,\n",
       "        0, 0, 0, 1, 0, 0, 0, 0, 0, 0, 0, 0, 0, 0, 0, 0, 0, 0, 1, 0, 0, 0,\n",
       "        0, 0, 0, 1, 0, 0, 0, 0, 0, 0, 0, 1, 2, 0, 1, 0, 0, 0, 0],\n",
       "       [0, 0, 0, 0, 0, 0, 0, 0, 0, 1, 0, 1, 0, 0, 0, 0, 0, 0, 0, 0, 0, 0,\n",
       "        1, 1, 0, 0, 0, 0, 0, 0, 0, 0, 0, 0, 0, 0, 0, 0, 0, 1, 0, 0, 0, 0,\n",
       "        0, 0, 0, 0, 0, 0, 1, 0, 0, 0, 0, 1, 0, 0, 0, 0, 0, 0, 0, 0, 0, 0,\n",
       "        0, 0, 0, 0, 0, 0, 0, 0, 0, 1, 0, 0, 0, 0, 0, 0, 0, 1, 0],\n",
       "       [0, 0, 0, 0, 0, 0, 0, 0, 0, 0, 0, 0, 0, 2, 0, 1, 0, 0, 0, 0, 0, 0,\n",
       "        0, 0, 0, 0, 0, 0, 2, 0, 0, 0, 0, 0, 0, 1, 0, 0, 0, 0, 0, 0, 0, 0,\n",
       "        0, 0, 2, 1, 0, 0, 0, 0, 0, 0, 0, 0, 0, 0, 0, 0, 0, 0, 0, 0, 0, 1,\n",
       "        1, 0, 0, 0, 0, 0, 0, 0, 0, 0, 0, 0, 0, 0, 0, 0, 0, 0, 1]],\n",
       "      dtype=int64)"
      ]
     },
     "execution_count": 20,
     "metadata": {},
     "output_type": "execute_result"
    }
   ],
   "source": [
    "X"
   ]
  },
  {
   "cell_type": "code",
   "execution_count": 21,
   "metadata": {},
   "outputs": [
    {
     "data": {
      "text/plain": [
       "['Virat Kohli is an Indian cricketer and the current captain of the India national team.',\n",
       " \"A right-handed top-order batsman, Kohli is regarded as one of the best contemporary batsmen in the world.He plays for Royal Challengers Bangalore in the Indian Premier League (IPL), and has been the team's captain since 2013.\",\n",
       " 'Kohli is consistently rated as one of the top-ranked batsmen in the world, according to the ICC Player Rankings.',\n",
       " 'Among Indian batsmen, Kohli has his best ever Test rating (937 points), ODI rating (911 points) and T20I rating (897 points).',\n",
       " 'Kohli captained India Under-19s to victory at the 2008 Under-19 World Cup in Malaysia.',\n",
       " 'After a few months later, he made his ODI debut for India against Sri Lanka at the age of 19.',\n",
       " 'Initially having played as a reserve batsman in the Indian team, he soon established himself as a regular in the ODI middle-order and was part of the squad that won the 2011 World Cup.',\n",
       " 'He made his Test debut in 2011 and shrugged off the tag of \"ODI specialist\" by 2013 with Test hundreds in Australia and South Africa.',\n",
       " \"Kohli was appointed the vice-captain of the ODI team in 2012 and handed over the Test captaincy following Mahendra Singh Dhoni's Test retirement in 2014.\",\n",
       " 'In early 2017, he became the limited-overs captain as well after Dhoni stepped down from the position.',\n",
       " 'In ODIs, Kohli has the second highest number of centuries and the highest number of centuries in run-chases in the world.']"
      ]
     },
     "execution_count": 21,
     "metadata": {},
     "output_type": "execute_result"
    }
   ],
   "source": [
    "sentences"
   ]
  },
  {
   "cell_type": "code",
   "execution_count": 22,
   "metadata": {},
   "outputs": [
    {
     "data": {
      "text/plain": [
       "['virat kohli indian cricket current captain india nation team',\n",
       " 'right hand top order batsman kohli regard one best contemporari batsmen world play royal challeng bangalor indian premier leagu ipl team captain sinc',\n",
       " 'kohli consist rate one top rank batsmen world accord icc player rank',\n",
       " 'among indian batsmen kohli best ever test rate point odi rate point rate point',\n",
       " 'kohli captain india victori world cup malaysia',\n",
       " 'month later made odi debut india sri lanka age',\n",
       " 'initi play reserv batsman indian team soon establish regular odi middl order part squad world cup',\n",
       " 'made test debut shrug tag odi specialist test hundr australia south africa',\n",
       " 'kohli appoint vice captain odi team hand test captainci follow mahendra singh dhoni test retir',\n",
       " 'earli becam limit over captain well dhoni step posit',\n",
       " 'odi kohli second highest number centuri highest number centuri run chase world']"
      ]
     },
     "execution_count": 22,
     "metadata": {},
     "output_type": "execute_result"
    }
   ],
   "source": [
    "corpus"
   ]
  },
  {
   "cell_type": "markdown",
   "metadata": {},
   "source": [
    "# TF-IDF Model"
   ]
  },
  {
   "cell_type": "code",
   "execution_count": 27,
   "metadata": {},
   "outputs": [],
   "source": [
    "import nltk\n",
    "paragraph=\"\"\"Virat Kohli is an Indian cricketer and the current captain of the India national team. A right-handed top-order batsman, Kohli is regarded as one of the best contemporary batsmen in the world.He plays for Royal Challengers Bangalore in the Indian Premier League (IPL), and has been the team's captain since 2013. Kohli is consistently rated as one of the top-ranked batsmen in the world, according to the ICC Player Rankings. Among Indian batsmen, Kohli has his best ever Test rating (937 points), ODI rating (911 points) and T20I rating (897 points).\n",
    "Kohli captained India Under-19s to victory at the 2008 Under-19 World Cup in Malaysia. After a few months later, he made his ODI debut for India against Sri Lanka at the age of 19. Initially having played as a reserve batsman in the Indian team, he soon established himself as a regular in the ODI middle-order and was part of the squad that won the 2011 World Cup. He made his Test debut in 2011 and shrugged off the tag of \"ODI specialist\" by 2013 with Test hundreds in Australia and South Africa.\n",
    "Kohli was appointed the vice-captain of the ODI team in 2012 and handed over the Test captaincy following Mahendra Singh Dhoni's Test retirement in 2014. In early 2017, he became the limited-overs captain as well after Dhoni stepped down from the position. In ODIs, Kohli has the second highest number of centuries and the highest number of centuries in run-chases in the world.\"\"\"\n",
    "# Cleaning the texts\n",
    "import re\n",
    "from nltk.corpus import stopwords\n",
    "from nltk.stem.porter import PorterStemmer\n",
    "from nltk.stem import WordNetLemmatizer\n",
    "\n",
    "ps = PorterStemmer()\n",
    "wordnet=WordNetLemmatizer()\n",
    "sentences = nltk.sent_tokenize(paragraph)\n",
    "corpus = []\n",
    "for i in range(len(sentences)):\n",
    "    review = re.sub('[^a-zA-Z]', ' ', sentences[i])\n",
    "    review = review.lower()\n",
    "    review = review.split()\n",
    "    review = [wordnet.lemmatize(word) for word in review if not word in set(stopwords.words('english'))]\n",
    "    review = ' '.join(review)\n",
    "    corpus.append(review)\n",
    "    \n",
    "# Creating the TF-IDF model\n",
    "from sklearn.feature_extraction.text import TfidfVectorizer\n",
    "cv = TfidfVectorizer()\n",
    "X = cv.fit_transform(corpus).toarray()"
   ]
  },
  {
   "cell_type": "code",
   "execution_count": 24,
   "metadata": {},
   "outputs": [
    {
     "data": {
      "text/plain": [
       "array([[0.        , 0.        , 0.        , 0.        , 0.        ,\n",
       "        0.        , 0.        , 0.        , 0.        , 0.        ,\n",
       "        0.27039843, 0.        , 0.        , 0.        , 0.        ,\n",
       "        0.        , 0.        , 0.        , 0.40250598, 0.        ,\n",
       "        0.40250598, 0.        , 0.        , 0.        , 0.        ,\n",
       "        0.        , 0.        , 0.        , 0.        , 0.        ,\n",
       "        0.        , 0.30257047, 0.27039843, 0.        , 0.        ,\n",
       "        0.20263497, 0.        , 0.        , 0.        , 0.        ,\n",
       "        0.        , 0.        , 0.        , 0.        , 0.        ,\n",
       "        0.40250598, 0.        , 0.        , 0.        , 0.        ,\n",
       "        0.        , 0.        , 0.        , 0.        , 0.        ,\n",
       "        0.        , 0.        , 0.        , 0.        , 0.        ,\n",
       "        0.        , 0.        , 0.        , 0.        , 0.        ,\n",
       "        0.        , 0.        , 0.        , 0.        , 0.        ,\n",
       "        0.        , 0.        , 0.        , 0.        , 0.        ,\n",
       "        0.        , 0.        , 0.        , 0.        , 0.        ,\n",
       "        0.        , 0.27039843, 0.        , 0.        , 0.        ,\n",
       "        0.        , 0.40250598, 0.        , 0.        ],\n",
       "       [0.        , 0.        , 0.        , 0.        , 0.        ,\n",
       "        0.        , 0.23291455, 0.31293811, 0.        , 0.19908688,\n",
       "        0.15646905, 0.        , 0.        , 0.        , 0.23291455,\n",
       "        0.        , 0.        , 0.23291455, 0.        , 0.        ,\n",
       "        0.        , 0.        , 0.        , 0.        , 0.        ,\n",
       "        0.        , 0.        , 0.19908688, 0.        , 0.        ,\n",
       "        0.        , 0.        , 0.15646905, 0.        , 0.23291455,\n",
       "        0.11725698, 0.        , 0.        , 0.23291455, 0.        ,\n",
       "        0.        , 0.        , 0.        , 0.        , 0.        ,\n",
       "        0.        , 0.        , 0.        , 0.        , 0.19908688,\n",
       "        0.19908688, 0.        , 0.        , 0.23291455, 0.        ,\n",
       "        0.        , 0.        , 0.        , 0.23291455, 0.        ,\n",
       "        0.        , 0.        , 0.        , 0.23291455, 0.        ,\n",
       "        0.        , 0.        , 0.23291455, 0.23291455, 0.        ,\n",
       "        0.        , 0.        , 0.23291455, 0.        , 0.        ,\n",
       "        0.        , 0.        , 0.        , 0.        , 0.        ,\n",
       "        0.        , 0.15646905, 0.        , 0.19908688, 0.        ,\n",
       "        0.        , 0.        , 0.        , 0.14125809],\n",
       "       [0.32386715, 0.        , 0.        , 0.        , 0.        ,\n",
       "        0.        , 0.        , 0.21756986, 0.        , 0.        ,\n",
       "        0.        , 0.        , 0.        , 0.        , 0.        ,\n",
       "        0.        , 0.32386715, 0.        , 0.        , 0.        ,\n",
       "        0.        , 0.        , 0.        , 0.        , 0.        ,\n",
       "        0.        , 0.        , 0.        , 0.        , 0.        ,\n",
       "        0.32386715, 0.        , 0.        , 0.        , 0.        ,\n",
       "        0.16304556, 0.        , 0.        , 0.        , 0.        ,\n",
       "        0.        , 0.        , 0.        , 0.        , 0.        ,\n",
       "        0.        , 0.        , 0.        , 0.        , 0.27682985,\n",
       "        0.        , 0.        , 0.        , 0.        , 0.        ,\n",
       "        0.32386715, 0.        , 0.        , 0.        , 0.32386715,\n",
       "        0.32386715, 0.32386715, 0.        , 0.        , 0.        ,\n",
       "        0.        , 0.        , 0.        , 0.        , 0.        ,\n",
       "        0.        , 0.        , 0.        , 0.        , 0.        ,\n",
       "        0.        , 0.        , 0.        , 0.        , 0.        ,\n",
       "        0.        , 0.        , 0.        , 0.27682985, 0.        ,\n",
       "        0.        , 0.        , 0.        , 0.19641905],\n",
       "       [0.        , 0.        , 0.        , 0.20933718, 0.        ,\n",
       "        0.        , 0.        , 0.14063007, 0.        , 0.1789338 ,\n",
       "        0.        , 0.        , 0.        , 0.        , 0.        ,\n",
       "        0.        , 0.        , 0.        , 0.        , 0.        ,\n",
       "        0.        , 0.        , 0.        , 0.        , 0.        ,\n",
       "        0.20933718, 0.        , 0.        , 0.        , 0.        ,\n",
       "        0.        , 0.        , 0.14063007, 0.        , 0.        ,\n",
       "        0.10538734, 0.        , 0.        , 0.        , 0.        ,\n",
       "        0.        , 0.        , 0.        , 0.        , 0.        ,\n",
       "        0.        , 0.        , 0.12695888, 0.        , 0.        ,\n",
       "        0.        , 0.        , 0.        , 0.        , 0.        ,\n",
       "        0.        , 0.62801155, 0.        , 0.        , 0.        ,\n",
       "        0.        , 0.        , 0.62801155, 0.        , 0.        ,\n",
       "        0.        , 0.        , 0.        , 0.        , 0.        ,\n",
       "        0.        , 0.        , 0.        , 0.        , 0.        ,\n",
       "        0.        , 0.        , 0.        , 0.        , 0.        ,\n",
       "        0.        , 0.        , 0.15736226, 0.        , 0.        ,\n",
       "        0.        , 0.        , 0.        , 0.        ],\n",
       "       [0.        , 0.        , 0.        , 0.        , 0.        ,\n",
       "        0.        , 0.        , 0.        , 0.        , 0.        ,\n",
       "        0.        , 0.        , 0.45097405, 0.        , 0.        ,\n",
       "        0.        , 0.        , 0.        , 0.        , 0.3854762 ,\n",
       "        0.        , 0.        , 0.        , 0.        , 0.        ,\n",
       "        0.        , 0.        , 0.        , 0.        , 0.        ,\n",
       "        0.        , 0.33900474, 0.        , 0.        , 0.        ,\n",
       "        0.22703542, 0.        , 0.        , 0.        , 0.        ,\n",
       "        0.        , 0.        , 0.45097405, 0.        , 0.        ,\n",
       "        0.        , 0.        , 0.        , 0.        , 0.        ,\n",
       "        0.        , 0.        , 0.        , 0.        , 0.        ,\n",
       "        0.        , 0.        , 0.        , 0.        , 0.        ,\n",
       "        0.        , 0.        , 0.        , 0.        , 0.        ,\n",
       "        0.        , 0.        , 0.        , 0.        , 0.        ,\n",
       "        0.        , 0.        , 0.        , 0.        , 0.        ,\n",
       "        0.        , 0.        , 0.        , 0.        , 0.        ,\n",
       "        0.        , 0.        , 0.        , 0.        , 0.        ,\n",
       "        0.45097405, 0.        , 0.        , 0.27350689],\n",
       "       [0.        , 0.        , 0.367753  , 0.        , 0.        ,\n",
       "        0.        , 0.        , 0.        , 0.        , 0.        ,\n",
       "        0.        , 0.        , 0.        , 0.        , 0.        ,\n",
       "        0.        , 0.        , 0.        , 0.        , 0.        ,\n",
       "        0.        , 0.31434188, 0.        , 0.        , 0.        ,\n",
       "        0.        , 0.        , 0.        , 0.        , 0.        ,\n",
       "        0.        , 0.27644608, 0.        , 0.        , 0.        ,\n",
       "        0.        , 0.367753  , 0.367753  , 0.        , 0.        ,\n",
       "        0.31434188, 0.        , 0.        , 0.        , 0.367753  ,\n",
       "        0.        , 0.        , 0.22303496, 0.        , 0.        ,\n",
       "        0.        , 0.        , 0.        , 0.        , 0.        ,\n",
       "        0.        , 0.        , 0.        , 0.        , 0.        ,\n",
       "        0.        , 0.        , 0.        , 0.        , 0.        ,\n",
       "        0.        , 0.        , 0.        , 0.        , 0.        ,\n",
       "        0.        , 0.        , 0.        , 0.        , 0.        ,\n",
       "        0.        , 0.        , 0.        , 0.367753  , 0.        ,\n",
       "        0.        , 0.        , 0.        , 0.        , 0.        ,\n",
       "        0.        , 0.        , 0.        , 0.        ],\n",
       "       [0.        , 0.        , 0.        , 0.        , 0.        ,\n",
       "        0.        , 0.        , 0.18962544, 0.        , 0.        ,\n",
       "        0.        , 0.        , 0.        , 0.        , 0.        ,\n",
       "        0.        , 0.        , 0.        , 0.        , 0.24127414,\n",
       "        0.        , 0.        , 0.        , 0.        , 0.28227002,\n",
       "        0.        , 0.        , 0.        , 0.        , 0.        ,\n",
       "        0.        , 0.        , 0.18962544, 0.28227002, 0.        ,\n",
       "        0.        , 0.        , 0.        , 0.        , 0.        ,\n",
       "        0.        , 0.        , 0.        , 0.28227002, 0.        ,\n",
       "        0.        , 0.        , 0.17119121, 0.        , 0.        ,\n",
       "        0.24127414, 0.        , 0.28227002, 0.        , 0.28227002,\n",
       "        0.        , 0.        , 0.        , 0.        , 0.        ,\n",
       "        0.        , 0.        , 0.        , 0.        , 0.28227002,\n",
       "        0.28227002, 0.        , 0.        , 0.        , 0.        ,\n",
       "        0.        , 0.        , 0.        , 0.        , 0.28227002,\n",
       "        0.        , 0.        , 0.28227002, 0.        , 0.        ,\n",
       "        0.        , 0.18962544, 0.        , 0.        , 0.        ,\n",
       "        0.        , 0.        , 0.        , 0.17119121],\n",
       "       [0.        , 0.30029391, 0.        , 0.        , 0.        ,\n",
       "        0.30029391, 0.        , 0.        , 0.        , 0.        ,\n",
       "        0.        , 0.        , 0.        , 0.        , 0.        ,\n",
       "        0.        , 0.        , 0.        , 0.        , 0.        ,\n",
       "        0.        , 0.2566803 , 0.        , 0.        , 0.        ,\n",
       "        0.        , 0.        , 0.        , 0.        , 0.30029391,\n",
       "        0.        , 0.        , 0.        , 0.        , 0.        ,\n",
       "        0.        , 0.        , 0.        , 0.        , 0.        ,\n",
       "        0.2566803 , 0.        , 0.        , 0.        , 0.        ,\n",
       "        0.        , 0.        , 0.18212235, 0.        , 0.        ,\n",
       "        0.        , 0.        , 0.        , 0.        , 0.        ,\n",
       "        0.        , 0.        , 0.        , 0.        , 0.        ,\n",
       "        0.        , 0.        , 0.        , 0.        , 0.        ,\n",
       "        0.        , 0.        , 0.        , 0.        , 0.        ,\n",
       "        0.        , 0.30029391, 0.        , 0.        , 0.        ,\n",
       "        0.30029391, 0.30029391, 0.        , 0.        , 0.        ,\n",
       "        0.30029391, 0.        , 0.45147191, 0.        , 0.        ,\n",
       "        0.        , 0.        , 0.        , 0.        ],\n",
       "       [0.        , 0.        , 0.        , 0.        , 0.28576778,\n",
       "        0.        , 0.        , 0.        , 0.        , 0.        ,\n",
       "        0.19197519, 0.28576778, 0.        , 0.        , 0.        ,\n",
       "        0.        , 0.        , 0.        , 0.        , 0.        ,\n",
       "        0.        , 0.        , 0.2442639 , 0.        , 0.        ,\n",
       "        0.        , 0.28576778, 0.2442639 , 0.        , 0.        ,\n",
       "        0.        , 0.        , 0.        , 0.        , 0.        ,\n",
       "        0.14386506, 0.        , 0.        , 0.        , 0.        ,\n",
       "        0.        , 0.28576778, 0.        , 0.        , 0.        ,\n",
       "        0.        , 0.        , 0.17331254, 0.        , 0.        ,\n",
       "        0.        , 0.        , 0.        , 0.        , 0.        ,\n",
       "        0.        , 0.        , 0.        , 0.        , 0.        ,\n",
       "        0.        , 0.        , 0.        , 0.        , 0.        ,\n",
       "        0.        , 0.28576778, 0.        , 0.        , 0.        ,\n",
       "        0.        , 0.        , 0.        , 0.28576778, 0.        ,\n",
       "        0.        , 0.        , 0.        , 0.        , 0.        ,\n",
       "        0.        , 0.19197519, 0.42963284, 0.        , 0.28576778,\n",
       "        0.        , 0.        , 0.        , 0.        ],\n",
       "       [0.        , 0.        , 0.        , 0.        , 0.        ,\n",
       "        0.        , 0.        , 0.        , 0.34960079, 0.        ,\n",
       "        0.2348574 , 0.        , 0.        , 0.        , 0.        ,\n",
       "        0.        , 0.        , 0.        , 0.        , 0.        ,\n",
       "        0.        , 0.        , 0.29882603, 0.34960079, 0.        ,\n",
       "        0.        , 0.        , 0.        , 0.        , 0.        ,\n",
       "        0.        , 0.        , 0.        , 0.        , 0.        ,\n",
       "        0.        , 0.        , 0.        , 0.        , 0.34960079,\n",
       "        0.        , 0.        , 0.        , 0.        , 0.        ,\n",
       "        0.        , 0.        , 0.        , 0.        , 0.        ,\n",
       "        0.        , 0.34960079, 0.        , 0.        , 0.        ,\n",
       "        0.        , 0.        , 0.34960079, 0.        , 0.        ,\n",
       "        0.        , 0.        , 0.        , 0.        , 0.        ,\n",
       "        0.        , 0.        , 0.        , 0.        , 0.        ,\n",
       "        0.        , 0.        , 0.        , 0.        , 0.        ,\n",
       "        0.        , 0.        , 0.        , 0.        , 0.34960079,\n",
       "        0.        , 0.        , 0.        , 0.        , 0.        ,\n",
       "        0.        , 0.        , 0.34960079, 0.        ],\n",
       "       [0.        , 0.        , 0.        , 0.        , 0.        ,\n",
       "        0.        , 0.        , 0.        , 0.        , 0.        ,\n",
       "        0.        , 0.        , 0.        , 0.4905666 , 0.        ,\n",
       "        0.2452833 , 0.        , 0.        , 0.        , 0.        ,\n",
       "        0.        , 0.        , 0.        , 0.        , 0.        ,\n",
       "        0.        , 0.        , 0.        , 0.4905666 , 0.        ,\n",
       "        0.        , 0.        , 0.        , 0.        , 0.        ,\n",
       "        0.12348382, 0.        , 0.        , 0.        , 0.        ,\n",
       "        0.        , 0.        , 0.        , 0.        , 0.        ,\n",
       "        0.        , 0.4905666 , 0.        , 0.2452833 , 0.        ,\n",
       "        0.        , 0.        , 0.        , 0.        , 0.        ,\n",
       "        0.        , 0.        , 0.        , 0.        , 0.        ,\n",
       "        0.        , 0.        , 0.        , 0.        , 0.        ,\n",
       "        0.        , 0.        , 0.        , 0.        , 0.2452833 ,\n",
       "        0.2452833 , 0.        , 0.        , 0.        , 0.        ,\n",
       "        0.        , 0.        , 0.        , 0.        , 0.        ,\n",
       "        0.        , 0.        , 0.        , 0.        , 0.        ,\n",
       "        0.        , 0.        , 0.        , 0.14875949]])"
      ]
     },
     "execution_count": 24,
     "metadata": {},
     "output_type": "execute_result"
    }
   ],
   "source": [
    "X"
   ]
  },
  {
   "cell_type": "code",
   "execution_count": 25,
   "metadata": {},
   "outputs": [
    {
     "data": {
      "text/plain": [
       "['virat kohli indian cricketer current captain india national team',\n",
       " 'right handed top order batsman kohli regarded one best contemporary batsman world play royal challenger bangalore indian premier league ipl team captain since',\n",
       " 'kohli consistently rated one top ranked batsman world according icc player ranking',\n",
       " 'among indian batsman kohli best ever test rating point odi rating point rating point',\n",
       " 'kohli captained india victory world cup malaysia',\n",
       " 'month later made odi debut india sri lanka age',\n",
       " 'initially played reserve batsman indian team soon established regular odi middle order part squad world cup',\n",
       " 'made test debut shrugged tag odi specialist test hundred australia south africa',\n",
       " 'kohli appointed vice captain odi team handed test captaincy following mahendra singh dhoni test retirement',\n",
       " 'early became limited over captain well dhoni stepped position',\n",
       " 'odis kohli second highest number century highest number century run chase world']"
      ]
     },
     "execution_count": 25,
     "metadata": {},
     "output_type": "execute_result"
    }
   ],
   "source": [
    "corpus"
   ]
  },
  {
   "cell_type": "code",
   "execution_count": 26,
   "metadata": {},
   "outputs": [
    {
     "data": {
      "text/plain": [
       "['Virat Kohli is an Indian cricketer and the current captain of the India national team.',\n",
       " \"A right-handed top-order batsman, Kohli is regarded as one of the best contemporary batsmen in the world.He plays for Royal Challengers Bangalore in the Indian Premier League (IPL), and has been the team's captain since 2013.\",\n",
       " 'Kohli is consistently rated as one of the top-ranked batsmen in the world, according to the ICC Player Rankings.',\n",
       " 'Among Indian batsmen, Kohli has his best ever Test rating (937 points), ODI rating (911 points) and T20I rating (897 points).',\n",
       " 'Kohli captained India Under-19s to victory at the 2008 Under-19 World Cup in Malaysia.',\n",
       " 'After a few months later, he made his ODI debut for India against Sri Lanka at the age of 19.',\n",
       " 'Initially having played as a reserve batsman in the Indian team, he soon established himself as a regular in the ODI middle-order and was part of the squad that won the 2011 World Cup.',\n",
       " 'He made his Test debut in 2011 and shrugged off the tag of \"ODI specialist\" by 2013 with Test hundreds in Australia and South Africa.',\n",
       " \"Kohli was appointed the vice-captain of the ODI team in 2012 and handed over the Test captaincy following Mahendra Singh Dhoni's Test retirement in 2014.\",\n",
       " 'In early 2017, he became the limited-overs captain as well after Dhoni stepped down from the position.',\n",
       " 'In ODIs, Kohli has the second highest number of centuries and the highest number of centuries in run-chases in the world.']"
      ]
     },
     "execution_count": 26,
     "metadata": {},
     "output_type": "execute_result"
    }
   ],
   "source": [
    "sentences"
   ]
  },
  {
   "cell_type": "code",
   "execution_count": null,
   "metadata": {},
   "outputs": [],
   "source": [
    "\"\""
   ]
  }
 ],
 "metadata": {
  "kernelspec": {
   "display_name": "Python 3",
   "language": "python",
   "name": "python3"
  },
  "language_info": {
   "codemirror_mode": {
    "name": "ipython",
    "version": 3
   },
   "file_extension": ".py",
   "mimetype": "text/x-python",
   "name": "python",
   "nbconvert_exporter": "python",
   "pygments_lexer": "ipython3",
   "version": "3.8.3"
  }
 },
 "nbformat": 4,
 "nbformat_minor": 4
}
